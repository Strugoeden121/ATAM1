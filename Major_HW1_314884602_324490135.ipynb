{
  "nbformat": 4,
  "nbformat_minor": 0,
  "metadata": {
    "colab": {
      "provenance": [],
      "authorship_tag": "ABX9TyPpDFyi2EYFGG1vK/VtZTgW",
      "include_colab_link": true
    },
    "kernelspec": {
      "name": "python3",
      "display_name": "Python 3"
    },
    "language_info": {
      "name": "python"
    }
  },
  "cells": [
    {
      "cell_type": "markdown",
      "metadata": {
        "id": "view-in-github",
        "colab_type": "text"
      },
      "source": [
        "<a href=\"https://colab.research.google.com/github/Strugoeden121/ATAM1/blob/main/Major_HW1_314884602_324490135.ipynb\" target=\"_parent\"><img src=\"https://colab.research.google.com/assets/colab-badge.svg\" alt=\"Open In Colab\"/></a>"
      ]
    },
    {
      "cell_type": "code",
      "execution_count": 1,
      "metadata": {
        "id": "z_eCR0vAmNOV"
      },
      "outputs": [],
      "source": [
        "from matplotlib import pylab\n",
        "params = {'xtick.labelsize': 18,\n",
        " 'ytick.labelsize': 18,\n",
        " 'axes.titlesize' : 22,\n",
        " 'axes.labelsize' : 20,\n",
        " 'legend.fontsize': 18,\n",
        " 'legend.title_fontsize': 22,\n",
        " 'figure.titlesize': 24 }\n",
        "pylab.rcParams.update(params)"
      ]
    },
    {
      "cell_type": "code",
      "source": [
        "import pandas as pd\n",
        "import numpy as np"
      ],
      "metadata": {
        "id": "_0ps1cbknbQU"
      },
      "execution_count": 2,
      "outputs": []
    },
    {
      "cell_type": "code",
      "source": [
        "df = pd.read_csv('virus_data.csv', header=0)"
      ],
      "metadata": {
        "id": "BVpYLjjupXox"
      },
      "execution_count": 11,
      "outputs": []
    },
    {
      "cell_type": "code",
      "source": [
        "df.shape\n"
      ],
      "metadata": {
        "colab": {
          "base_uri": "https://localhost:8080/"
        },
        "id": "CcnFpAM8pYRM",
        "outputId": "bdb222b0-3cb7-494c-b175-8cec57c0bac2"
      },
      "execution_count": 16,
      "outputs": [
        {
          "output_type": "execute_result",
          "data": {
            "text/plain": [
              "(1250, 26)"
            ]
          },
          "metadata": {},
          "execution_count": 16
        }
      ]
    },
    {
      "cell_type": "code",
      "source": [
        "df['conversations_per_day'].value_counts()"
      ],
      "metadata": {
        "colab": {
          "base_uri": "https://localhost:8080/"
        },
        "id": "cBPuduuhpYTr",
        "outputId": "dd4b6782-617b-423e-bd1e-14359a5217e9"
      },
      "execution_count": 15,
      "outputs": [
        {
          "output_type": "execute_result",
          "data": {
            "text/plain": [
              "3     224\n",
              "2     215\n",
              "4     190\n",
              "5     156\n",
              "6     111\n",
              "1     104\n",
              "8      72\n",
              "7      60\n",
              "9      39\n",
              "10     23\n",
              "11     19\n",
              "12     12\n",
              "13      9\n",
              "14      6\n",
              "17      4\n",
              "15      2\n",
              "16      2\n",
              "19      1\n",
              "22      1\n",
              "Name: conversations_per_day, dtype: int64"
            ]
          },
          "metadata": {},
          "execution_count": 15
        }
      ]
    },
    {
      "cell_type": "code",
      "source": [],
      "metadata": {
        "id": "NmceQYbEpYWU"
      },
      "execution_count": null,
      "outputs": []
    },
    {
      "cell_type": "code",
      "source": [],
      "metadata": {
        "id": "iBfZ6QyQpYY6"
      },
      "execution_count": null,
      "outputs": []
    },
    {
      "cell_type": "code",
      "source": [],
      "metadata": {
        "id": "2sLY8nQEpYcE"
      },
      "execution_count": null,
      "outputs": []
    },
    {
      "cell_type": "code",
      "source": [],
      "metadata": {
        "id": "tP9sXtu9pYfl"
      },
      "execution_count": null,
      "outputs": []
    }
  ]
}